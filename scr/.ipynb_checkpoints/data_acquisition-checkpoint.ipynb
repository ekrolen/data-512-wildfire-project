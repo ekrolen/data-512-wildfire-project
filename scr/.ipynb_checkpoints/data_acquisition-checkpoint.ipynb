{
 "cells": [
  {
   "cell_type": "markdown",
   "id": "e1338387",
   "metadata": {},
   "source": [
    "## Purpose\n",
    "\n",
    "The purpose of this file is to filter the raw data into the information we need to create smoke estimators. Specifically we need to limit the data to: \n",
    "1. Fires within 1250 miles of Pahrump, Nevada (Nye County)\n",
    "2. Fires which occurred within the last 60 years (1963-2023)\n",
    "\n",
    "We will begin by importing python libraries. The user may need to install pyproj (converts between different geodesic coordinate systems and for calculating distances between points (coordinates) in a specific geodesic system) and geojson using pip. The 'wildfire' module is a user module. This module is available from the course website. The module includes one object, a Reader, that can be used to read the GeoJSON files associated with the wildefire dataset. The module also contains a sample datafile that is GeoJSON compliant and that contains a small number of California wildfires extracted from the main wildfire dataset. Some of the code below was taken from the wildfire_geo_proximity_example notebook created by Professor McDonald. The notebook is licensed for use in DATA 512, a course in the UW MS Data Science degree program. This code is provided under the [Creative Commons](https://creativecommons.org) [CC-BY license](https://creativecommons.org/licenses/by/4.0/). Revision 1.0 - August 13, 2023"
   ]
  },
  {
   "cell_type": "code",
   "execution_count": 1,
   "id": "010701b4",
   "metadata": {},
   "outputs": [],
   "source": [
    "import os, json, time\n",
    "from pyproj import Transformer, Geod\n",
    "from wildfire.Reader import Reader as WFReader\n",
    "import geojson\n",
    "from datetime import datetime\n",
    "import pandas as pd"
   ]
  },
  {
   "cell_type": "markdown",
   "id": "3a75f4a1",
   "metadata": {},
   "source": [
    "Transform the feature geometry into different coordinate system (EPSG:4326). Code originally written by Professor McDonald, modified by Emily Creeden."
   ]
  },
  {
   "cell_type": "code",
   "execution_count": 2,
   "id": "59a64c63",
   "metadata": {},
   "outputs": [],
   "source": [
    "#    Transform feature geometry data\n",
    "#\n",
    "#    The function takes one parameter, a list of ESRI:102008 coordinates that will be transformed to EPSG:4326\n",
    "#    The function returns a list of coordinates in EPSG:4326\n",
    "def convert_ring_to_epsg4326(ring_data=None):\n",
    "    converted_ring = list()\n",
    "    #\n",
    "    # We use a pyproj transformer that converts from ESRI:102008 to EPSG:4326 to transform the list of coordinates\n",
    "    to_epsg4326 = Transformer.from_crs(\"ESRI:102008\",\"EPSG:4326\")\n",
    "    # We'll run through the list transforming each ESRI:102008 x,y coordinate into a decimal degree lat,lon\n",
    "    for coord in ring_data:\n",
    "        lat,lon = to_epsg4326.transform(coord[0],coord[1])\n",
    "        new_coord = lat,lon\n",
    "        converted_ring.append(new_coord)\n",
    "    return converted_ring"
   ]
  },
  {
   "cell_type": "markdown",
   "id": "4a744b3c",
   "metadata": {},
   "source": [
    "Next we need to find the shortest distance between our city and each fire. We choose to measure the distance from the perimeter of the fire rather than the center. We do this because we believe proximity to the town is important in determining the amount of smoke generated. The edge of the fire may be close to town generating lots of smoke, whereas the center may be several miles away generating less smoke. We estimate the town's coordinates to be in the middle of the specified town area on GoogleMaps. We do this because we want to estimate smoke for the town as a whole and did not want to bias towards one side or another. We will later calculate the smoke estimate using the proximity to town.\n",
    "\n",
    "Code originally written by Professor McDonald, modified by Emily Creeden."
   ]
  },
  {
   "cell_type": "code",
   "execution_count": 3,
   "id": "81c16c4e",
   "metadata": {},
   "outputs": [],
   "source": [
    "#    The function takes two parameters\n",
    "#        A place - which is coordinate point (list or tuple with two items, (lat,lon) in decimal degrees EPSG:4326\n",
    "#        Ring_data - a list of decimal degree coordinates for the fire boundary\n",
    "#\n",
    "#    The function returns a list containing the shortest distance to the perimeter and the point where that is\n",
    "#\n",
    "def shortest_distance_from_place_to_fire_perimeter(place=None,ring_data=None):\n",
    "    # convert the ring data to the right coordinate system\n",
    "    ring = convert_ring_to_epsg4326(ring_data)    \n",
    "    # create a epsg4326 compliant object - which is what the WGS84 ellipsoid is\n",
    "    geodcalc = Geod(ellps='WGS84')\n",
    "    closest_point = list()\n",
    "    # run through each point in the converted ring data\n",
    "    for point in ring:\n",
    "        # calculate the distance\n",
    "        d = geodcalc.inv(place[1],place[0],point[1],point[0])\n",
    "        # convert the distance to miles\n",
    "        distance_in_miles = d[2]*0.00062137\n",
    "        # if it's closer to the city than the point we have, save it\n",
    "        if not closest_point:\n",
    "            closest_point.append(distance_in_miles)\n",
    "            closest_point.append(point)\n",
    "        elif closest_point and closest_point[0]>distance_in_miles:\n",
    "            closest_point = list()\n",
    "            closest_point.append(distance_in_miles)\n",
    "            closest_point.append(point)\n",
    "    return closest_point\n"
   ]
  },
  {
   "cell_type": "markdown",
   "id": "78bb7051",
   "metadata": {},
   "source": [
    "Now we will load the geojson data into the wildfire reader. Code originally written by Professor McDonald, modified by Emily Creeden. Users should change the SAMPLE_DATA_FILENAME to reflect where they have stored the USGS_Wildland_Fire_Combined_Dataset.json if not in 2 directories above the current directory as specified in the README."
   ]
  },
  {
   "cell_type": "code",
   "execution_count": 4,
   "id": "d42f148c",
   "metadata": {},
   "outputs": [
    {
     "name": "stdout",
     "output_type": "stream",
     "text": [
      "Attempting to open '../../USGS_Wildland_Fire_Combined_Dataset.json' with wildfire.Reader() object\n",
      "\n"
     ]
    }
   ],
   "source": [
    "#\n",
    "#    This bit of code opens a new wildfire reader, gets the header information and prints it to the screen\n",
    "#\n",
    "SAMPLE_DATA_FILENAME = '../../USGS_Wildland_Fire_Combined_Dataset.json'\n",
    "print(f\"Attempting to open '{SAMPLE_DATA_FILENAME}' with wildfire.Reader() object\")\n",
    "wfreader = WFReader(SAMPLE_DATA_FILENAME)\n",
    "print()\n",
    "#\n",
    "#    OPTIONAL: Now print the header - it contains some useful information\n",
    "#\n",
    "#header_dict = wfreader.header()\n",
    "#header_keys = list(header_dict.keys())\n",
    "#print(\"The header has the following keys:\")\n",
    "#print(gj_keys)\n",
    "#print()\n",
    "#print(\"Header Dictionary\")\n",
    "#print(json.dumps(header_dict,indent=4))"
   ]
  },
  {
   "cell_type": "markdown",
   "id": "75f83d17",
   "metadata": {},
   "source": [
    "Next we will get a list of features (fires) in the data. This section may take a while to run. Code originally written by Professor McDonald, modified by Emily Creeden."
   ]
  },
  {
   "cell_type": "code",
   "execution_count": null,
   "id": "d876b198",
   "metadata": {
    "scrolled": true
   },
   "outputs": [],
   "source": [
    "#Loading all feature data from raw USGS data.\n",
    "#MAX_FEATURE_LOAD = 100\n",
    "feature_list = list()\n",
    "feature_count = 0\n",
    "# A rewind() on the reader object makes sure we're at the start of the feature list\n",
    "http://localhost:8890/notebooks/Documents/01%20MSDS/512%20-%20Human%20Centered%20Design/data-512-wildfire-project/scr/data_acquisition.ipynb## This way, we can execute this cell multiple times and get the same result \n",
    "wfreader.rewind()\n",
    "# Now, read through each of the features, saving them as dictionaries into a list\n",
    "feature = wfreader.next()\n",
    "while feature:\n",
    "    feature_list.append(feature)\n",
    "    feature_count += 1\n",
    "    # if we're loading a lot of features, print progress\n",
    "    if (feature_count % 10000) == 0:\n",
    "        print(f\"Loaded {feature_count} features\")\n",
    "    # loaded the max we're allowed then break\n",
    "    '''if feature_count >= MAX_FEATURE_LOAD:\n",
    "        break'''\n",
    "    feature = wfreader.next()\n",
    "#\n",
    "#    Print the number of items (features) we think we loaded\n",
    "print(f\"Loaded a total of {feature_count} features\")\n",
    "#\n",
    "#    Just a validation check - did all the items we loaded get into the list?\n",
    "print(f\"Variable 'feature_list' contains {len(feature_list)} features\")"
   ]
  },
  {
   "cell_type": "markdown",
   "id": "56568c98",
   "metadata": {},
   "source": [
    "Specify the coordinates of the town you want to measure distances to. As noted above, we use the center of Pahrump as a proxy to the whole town. Code originally written by Professor McDonald, modified by Emily Creeden."
   ]
  },
  {
   "cell_type": "code",
   "execution_count": 6,
   "id": "889d3868",
   "metadata": {},
   "outputs": [],
   "source": [
    "#Building out the city location\n",
    "CITY_LOCATIONS = {\n",
    "    'pahrump' :     {'city'   : 'Pahrump', \n",
    "                     'latlon' : [36.231143, -116.017339]}}"
   ]
  },
  {
   "cell_type": "markdown",
   "id": "ab4cb6cb",
   "metadata": {},
   "source": [
    "The below code calculates the distance from the closest edge of the fire to the town. It may run for ~1 hour. Code originally written by Professor McDonald, modified by Emily Creeden."
   ]
  },
  {
   "cell_type": "code",
   "execution_count": 9,
   "id": "8dd6e45f",
   "metadata": {},
   "outputs": [
    {
     "name": "stdout",
     "output_type": "stream",
     "text": [
      "Processed 1000 features\n",
      "Processed 2000 features\n",
      "Processed 3000 features\n",
      "Processed 4000 features\n",
      "Processed 5000 features\n",
      "Processed 6000 features\n",
      "Processed 7000 features\n"
     ]
    },
    {
     "ename": "KeyboardInterrupt",
     "evalue": "",
     "output_type": "error",
     "traceback": [
      "\u001b[1;31m---------------------------------------------------------------------------\u001b[0m",
      "\u001b[1;31mKeyboardInterrupt\u001b[0m                         Traceback (most recent call last)",
      "Input \u001b[1;32mIn [9]\u001b[0m, in \u001b[0;36m<cell line: 8>\u001b[1;34m()\u001b[0m\n\u001b[0;32m     10\u001b[0m \u001b[38;5;28;01mtry\u001b[39;00m:\n\u001b[0;32m     11\u001b[0m     ring_data \u001b[38;5;241m=\u001b[39m wf_feature[\u001b[38;5;124m'\u001b[39m\u001b[38;5;124mgeometry\u001b[39m\u001b[38;5;124m'\u001b[39m][\u001b[38;5;124m'\u001b[39m\u001b[38;5;124mrings\u001b[39m\u001b[38;5;124m'\u001b[39m][\u001b[38;5;241m0\u001b[39m]\n\u001b[1;32m---> 12\u001b[0m     distance \u001b[38;5;241m=\u001b[39m \u001b[43mshortest_distance_from_place_to_fire_perimeter\u001b[49m\u001b[43m(\u001b[49m\u001b[43mplace\u001b[49m\u001b[43m[\u001b[49m\u001b[38;5;124;43m'\u001b[39;49m\u001b[38;5;124;43mlatlon\u001b[39;49m\u001b[38;5;124;43m'\u001b[39;49m\u001b[43m]\u001b[49m\u001b[43m,\u001b[49m\u001b[43mring_data\u001b[49m\u001b[43m)\u001b[49m\n\u001b[0;32m     13\u001b[0m     fire_id\u001b[38;5;241m.\u001b[39mappend(wf_feature[\u001b[38;5;124m'\u001b[39m\u001b[38;5;124mattributes\u001b[39m\u001b[38;5;124m'\u001b[39m][\u001b[38;5;124m'\u001b[39m\u001b[38;5;124mOBJECTID\u001b[39m\u001b[38;5;124m'\u001b[39m])\n\u001b[0;32m     14\u001b[0m     shortest_dist_from_edge\u001b[38;5;241m.\u001b[39mappend(\u001b[38;5;28mround\u001b[39m(distance[\u001b[38;5;241m0\u001b[39m], \u001b[38;5;241m2\u001b[39m))\n",
      "Input \u001b[1;32mIn [3]\u001b[0m, in \u001b[0;36mshortest_distance_from_place_to_fire_perimeter\u001b[1;34m(place, ring_data)\u001b[0m\n\u001b[0;32m      7\u001b[0m \u001b[38;5;28;01mdef\u001b[39;00m \u001b[38;5;21mshortest_distance_from_place_to_fire_perimeter\u001b[39m(place\u001b[38;5;241m=\u001b[39m\u001b[38;5;28;01mNone\u001b[39;00m,ring_data\u001b[38;5;241m=\u001b[39m\u001b[38;5;28;01mNone\u001b[39;00m):\n\u001b[0;32m      8\u001b[0m     \u001b[38;5;66;03m# convert the ring data to the right coordinate system\u001b[39;00m\n\u001b[1;32m----> 9\u001b[0m     ring \u001b[38;5;241m=\u001b[39m \u001b[43mconvert_ring_to_epsg4326\u001b[49m\u001b[43m(\u001b[49m\u001b[43mring_data\u001b[49m\u001b[43m)\u001b[49m    \n\u001b[0;32m     10\u001b[0m     \u001b[38;5;66;03m# create a epsg4326 compliant object - which is what the WGS84 ellipsoid is\u001b[39;00m\n\u001b[0;32m     11\u001b[0m     geodcalc \u001b[38;5;241m=\u001b[39m Geod(ellps\u001b[38;5;241m=\u001b[39m\u001b[38;5;124m'\u001b[39m\u001b[38;5;124mWGS84\u001b[39m\u001b[38;5;124m'\u001b[39m)\n",
      "Input \u001b[1;32mIn [2]\u001b[0m, in \u001b[0;36mconvert_ring_to_epsg4326\u001b[1;34m(ring_data)\u001b[0m\n\u001b[0;32m      6\u001b[0m converted_ring \u001b[38;5;241m=\u001b[39m \u001b[38;5;28mlist\u001b[39m()\n\u001b[0;32m      7\u001b[0m \u001b[38;5;66;03m#\u001b[39;00m\n\u001b[0;32m      8\u001b[0m \u001b[38;5;66;03m# We use a pyproj transformer that converts from ESRI:102008 to EPSG:4326 to transform the list of coordinates\u001b[39;00m\n\u001b[1;32m----> 9\u001b[0m to_epsg4326 \u001b[38;5;241m=\u001b[39m \u001b[43mTransformer\u001b[49m\u001b[38;5;241;43m.\u001b[39;49m\u001b[43mfrom_crs\u001b[49m\u001b[43m(\u001b[49m\u001b[38;5;124;43m\"\u001b[39;49m\u001b[38;5;124;43mESRI:102008\u001b[39;49m\u001b[38;5;124;43m\"\u001b[39;49m\u001b[43m,\u001b[49m\u001b[38;5;124;43m\"\u001b[39;49m\u001b[38;5;124;43mEPSG:4326\u001b[39;49m\u001b[38;5;124;43m\"\u001b[39;49m\u001b[43m)\u001b[49m\n\u001b[0;32m     10\u001b[0m \u001b[38;5;66;03m# We'll run through the list transforming each ESRI:102008 x,y coordinate into a decimal degree lat,lon\u001b[39;00m\n\u001b[0;32m     11\u001b[0m \u001b[38;5;28;01mfor\u001b[39;00m coord \u001b[38;5;129;01min\u001b[39;00m ring_data:\n",
      "File \u001b[1;32m~\\AppData\\Roaming\\Python\\Python39\\site-packages\\pyproj\\transformer.py:625\u001b[0m, in \u001b[0;36mTransformer.from_crs\u001b[1;34m(crs_from, crs_to, always_xy, area_of_interest, authority, accuracy, allow_ballpark, force_over, only_best)\u001b[0m\n\u001b[0;32m    552\u001b[0m \u001b[38;5;129m@staticmethod\u001b[39m\n\u001b[0;32m    553\u001b[0m \u001b[38;5;28;01mdef\u001b[39;00m \u001b[38;5;21mfrom_crs\u001b[39m(\n\u001b[0;32m    554\u001b[0m     crs_from: Any,\n\u001b[1;32m   (...)\u001b[0m\n\u001b[0;32m    562\u001b[0m     only_best: Optional[\u001b[38;5;28mbool\u001b[39m] \u001b[38;5;241m=\u001b[39m \u001b[38;5;28;01mNone\u001b[39;00m,\n\u001b[0;32m    563\u001b[0m ) \u001b[38;5;241m-\u001b[39m\u001b[38;5;241m>\u001b[39m \u001b[38;5;124m\"\u001b[39m\u001b[38;5;124mTransformer\u001b[39m\u001b[38;5;124m\"\u001b[39m:\n\u001b[0;32m    564\u001b[0m     \u001b[38;5;124;03m\"\"\"Make a Transformer from a :obj:`pyproj.crs.CRS` or input used to create one.\u001b[39;00m\n\u001b[0;32m    565\u001b[0m \n\u001b[0;32m    566\u001b[0m \u001b[38;5;124;03m    See:\u001b[39;00m\n\u001b[1;32m   (...)\u001b[0m\n\u001b[0;32m    623\u001b[0m \n\u001b[0;32m    624\u001b[0m \u001b[38;5;124;03m    \"\"\"\u001b[39;00m\n\u001b[1;32m--> 625\u001b[0m     \u001b[38;5;28;01mreturn\u001b[39;00m \u001b[43mTransformer\u001b[49m\u001b[43m(\u001b[49m\n\u001b[0;32m    626\u001b[0m \u001b[43m        \u001b[49m\u001b[43mTransformerFromCRS\u001b[49m\u001b[43m(\u001b[49m\n\u001b[0;32m    627\u001b[0m \u001b[43m            \u001b[49m\u001b[43mcstrencode\u001b[49m\u001b[43m(\u001b[49m\u001b[43mCRS\u001b[49m\u001b[38;5;241;43m.\u001b[39;49m\u001b[43mfrom_user_input\u001b[49m\u001b[43m(\u001b[49m\u001b[43mcrs_from\u001b[49m\u001b[43m)\u001b[49m\u001b[38;5;241;43m.\u001b[39;49m\u001b[43msrs\u001b[49m\u001b[43m)\u001b[49m\u001b[43m,\u001b[49m\n\u001b[0;32m    628\u001b[0m \u001b[43m            \u001b[49m\u001b[43mcstrencode\u001b[49m\u001b[43m(\u001b[49m\u001b[43mCRS\u001b[49m\u001b[38;5;241;43m.\u001b[39;49m\u001b[43mfrom_user_input\u001b[49m\u001b[43m(\u001b[49m\u001b[43mcrs_to\u001b[49m\u001b[43m)\u001b[49m\u001b[38;5;241;43m.\u001b[39;49m\u001b[43msrs\u001b[49m\u001b[43m)\u001b[49m\u001b[43m,\u001b[49m\n\u001b[0;32m    629\u001b[0m \u001b[43m            \u001b[49m\u001b[43malways_xy\u001b[49m\u001b[38;5;241;43m=\u001b[39;49m\u001b[43malways_xy\u001b[49m\u001b[43m,\u001b[49m\n\u001b[0;32m    630\u001b[0m \u001b[43m            \u001b[49m\u001b[43marea_of_interest\u001b[49m\u001b[38;5;241;43m=\u001b[39;49m\u001b[43marea_of_interest\u001b[49m\u001b[43m,\u001b[49m\n\u001b[0;32m    631\u001b[0m \u001b[43m            \u001b[49m\u001b[43mauthority\u001b[49m\u001b[38;5;241;43m=\u001b[39;49m\u001b[43mauthority\u001b[49m\u001b[43m,\u001b[49m\n\u001b[0;32m    632\u001b[0m \u001b[43m            \u001b[49m\u001b[43maccuracy\u001b[49m\u001b[38;5;241;43m=\u001b[39;49m\u001b[43maccuracy\u001b[49m\u001b[43m \u001b[49m\u001b[38;5;28;43;01mif\u001b[39;49;00m\u001b[43m \u001b[49m\u001b[43maccuracy\u001b[49m\u001b[43m \u001b[49m\u001b[38;5;129;43;01mis\u001b[39;49;00m\u001b[43m \u001b[49m\u001b[38;5;28;43;01mNone\u001b[39;49;00m\u001b[43m \u001b[49m\u001b[38;5;28;43;01melse\u001b[39;49;00m\u001b[43m \u001b[49m\u001b[38;5;28;43mstr\u001b[39;49m\u001b[43m(\u001b[49m\u001b[43maccuracy\u001b[49m\u001b[43m)\u001b[49m\u001b[43m,\u001b[49m\n\u001b[0;32m    633\u001b[0m \u001b[43m            \u001b[49m\u001b[43mallow_ballpark\u001b[49m\u001b[38;5;241;43m=\u001b[39;49m\u001b[43mallow_ballpark\u001b[49m\u001b[43m,\u001b[49m\n\u001b[0;32m    634\u001b[0m \u001b[43m            \u001b[49m\u001b[43mforce_over\u001b[49m\u001b[38;5;241;43m=\u001b[39;49m\u001b[43mforce_over\u001b[49m\u001b[43m,\u001b[49m\n\u001b[0;32m    635\u001b[0m \u001b[43m            \u001b[49m\u001b[43monly_best\u001b[49m\u001b[38;5;241;43m=\u001b[39;49m\u001b[43monly_best\u001b[49m\u001b[43m,\u001b[49m\n\u001b[0;32m    636\u001b[0m \u001b[43m        \u001b[49m\u001b[43m)\u001b[49m\n\u001b[0;32m    637\u001b[0m \u001b[43m    \u001b[49m\u001b[43m)\u001b[49m\n",
      "File \u001b[1;32m~\\AppData\\Roaming\\Python\\Python39\\site-packages\\pyproj\\transformer.py:337\u001b[0m, in \u001b[0;36mTransformer.__init__\u001b[1;34m(self, transformer_maker)\u001b[0m\n\u001b[0;32m    331\u001b[0m     \u001b[38;5;28;01mraise\u001b[39;00m ProjError(\n\u001b[0;32m    332\u001b[0m         \u001b[38;5;124m\"\u001b[39m\u001b[38;5;124mTransformer must be initialized using: \u001b[39m\u001b[38;5;124m\"\u001b[39m\n\u001b[0;32m    333\u001b[0m         \u001b[38;5;124m\"\u001b[39m\u001b[38;5;124m'\u001b[39m\u001b[38;5;124mfrom_crs\u001b[39m\u001b[38;5;124m'\u001b[39m\u001b[38;5;124m or \u001b[39m\u001b[38;5;124m'\u001b[39m\u001b[38;5;124mfrom_pipeline\u001b[39m\u001b[38;5;124m'\u001b[39m\u001b[38;5;124m.\u001b[39m\u001b[38;5;124m\"\u001b[39m\n\u001b[0;32m    334\u001b[0m     )\n\u001b[0;32m    336\u001b[0m \u001b[38;5;28mself\u001b[39m\u001b[38;5;241m.\u001b[39m_local \u001b[38;5;241m=\u001b[39m TransformerLocal()\n\u001b[1;32m--> 337\u001b[0m \u001b[38;5;28mself\u001b[39m\u001b[38;5;241m.\u001b[39m_local\u001b[38;5;241m.\u001b[39mtransformer \u001b[38;5;241m=\u001b[39m \u001b[43mtransformer_maker\u001b[49m\u001b[43m(\u001b[49m\u001b[43m)\u001b[49m\n\u001b[0;32m    338\u001b[0m \u001b[38;5;28mself\u001b[39m\u001b[38;5;241m.\u001b[39m_transformer_maker \u001b[38;5;241m=\u001b[39m transformer_maker\n",
      "\u001b[1;31mKeyboardInterrupt\u001b[0m: "
     ]
    }
   ],
   "source": [
    "#    Get a city from our CITY_LOCATIONS constant as our starting position\n",
    "place = CITY_LOCATIONS[\"pahrump\"]\n",
    "\n",
    "fire_id = []\n",
    "shortest_dist_from_edge = []\n",
    "features_processed = 0\n",
    "\n",
    "for wf_feature in feature_list:\n",
    "    #Try/Except to catch fires which aren't in a ring shape\n",
    "    try:\n",
    "        ring_data = wf_feature['geometry']['rings'][0]\n",
    "        distance = shortest_distance_from_place_to_fire_perimeter(place['latlon'],ring_data)\n",
    "        fire_id.append(wf_feature['attributes']['OBJECTID'])\n",
    "        shortest_dist_from_edge.append(round(distance[0], 2))\n",
    "    except KeyError:\n",
    "        print(\"{0} fire is in {1} shape, ignoring.\".format(wf_feature['attributes']['OBJECTID'], list(wf_feature['geometry'].keys())[0]))\n",
    "    #Incrementing the fires processed counter and saving every 10000 entries to avoid lost work\n",
    "    features_processed = features_processed + 1\n",
    "    if features_processed % 1000 == 0:\n",
    "        print(\"Processed {0} features\".format(features_processed))\n",
    "    if features_processed % 10000 == 0:\n",
    "        dist_df = pd.DataFrame({'OBJECTID': fire_id, 'shortest_dist': shortest_dist_from_edge})\n",
    "        dist_df.to_csv('../intermediate_data/fire_distances.csv', index=False)\n",
    "\n",
    "#Saving the final file\n",
    "dist_df = pd.DataFrame({'OBJECTID': fire_id, 'shortest_dist': shortest_dist_from_edge})\n",
    "dist_df.to_csv('../intermediate_data/fire_distances.csv', index=False)"
   ]
  },
  {
   "cell_type": "markdown",
   "id": "82c5622e",
   "metadata": {},
   "source": [
    "We will read in the file created above in the event that the programmer saved their outputs and returned to the work."
   ]
  },
  {
   "cell_type": "code",
   "execution_count": null,
   "id": "236290f1",
   "metadata": {},
   "outputs": [],
   "source": [
    "#Reading file in as pandas df\n",
    "fire_dist_df = pd.read_csv('../intermediate_data/fire_distances.csv')"
   ]
  },
  {
   "cell_type": "markdown",
   "id": "01811203",
   "metadata": {},
   "source": [
    "Now we will keep only fires which occurr within 1250 miles from our town."
   ]
  },
  {
   "cell_type": "code",
   "execution_count": null,
   "id": "36adf72b",
   "metadata": {},
   "outputs": [],
   "source": [
    "#Keeping only fires <1250 miles away\n",
    "lim_fires_df = fire_dist_df.loc[fire_dist_df['shortest_dist']< 1250]\n",
    "print(\"There are {0} fires within 1250 miles of Pahrump, NV\".format(len(lim_fires_df)))\n",
    "\n",
    "#Saving those fires\n",
    "lim_fires_df.to_csv('../intermediate_data/close_fires.csv', index = False)"
   ]
  },
  {
   "cell_type": "markdown",
   "id": "af8b32c1",
   "metadata": {},
   "source": [
    "Now we will reload the wildfire data to create a table with fire attributes which will later be used to estimate smoke in Pahrump on an annual basis. We are keeping only fires which occurred in or after 1963. The below code loads the table..."
   ]
  },
  {
   "cell_type": "code",
   "execution_count": null,
   "id": "f658a073",
   "metadata": {},
   "outputs": [],
   "source": [
    "#Loading wildfire data to get features\n",
    "wf_file = open('../../USGS_Wildland_Fire_Combined_Dataset.json')\n",
    " \n",
    "#Makes a dictionary from file\n",
    "wf_dict = json.load(wf_file)"
   ]
  },
  {
   "cell_type": "markdown",
   "id": "3be39040",
   "metadata": {},
   "source": [
    "...and the following code extracts the relevent columms."
   ]
  },
  {
   "cell_type": "code",
   "execution_count": null,
   "id": "3dabc0cd",
   "metadata": {},
   "outputs": [],
   "source": [
    "#Creating new lists for relevent columns\n",
    "objectid = []\n",
    "Assigned_Fire_Type = []\n",
    "Fire_Year = []\n",
    "GIS_Acres = []\n",
    "Overlap_Within_1_or_2_Flag = []\n",
    "\n",
    "#Parsing through wf_dict['features'] list for each attribute seeing fire year\n",
    "#if in range, add to the lim_df list\n",
    "for fire in wf_dict['features']:\n",
    "    fire_count = 0\n",
    "    if fire['attributes']['Fire_Year'] >= 1963:\n",
    "        objectid.append(fire['attributes']['OBJECTID'])\n",
    "        Assigned_Fire_Type.append(fire['attributes']['Assigned_Fire_Type'])\n",
    "        Fire_Year.append(fire['attributes']['Fire_Year'])\n",
    "        GIS_Acres.append(fire['attributes']['GIS_Acres'])\n",
    "        Overlap_Within_1_or_2_Flag.append(fire['attributes']['Overlap_Within_1_or_2_Flag'])\n",
    "        fire_count += 1\n",
    "        if fire_count % 1000 == 0:\n",
    "            print(\"Processed {0} fires\".format(fire_count))"
   ]
  },
  {
   "cell_type": "markdown",
   "id": "ca83fc5b",
   "metadata": {},
   "source": [
    "Now we will combine the lists created above into a single pandas df and save it to the intermediate files in the event the programmer wants to return to it later."
   ]
  },
  {
   "cell_type": "code",
   "execution_count": null,
   "id": "5d6738b3",
   "metadata": {},
   "outputs": [],
   "source": [
    "#Creating the feature DF\n",
    "feature_df = pd.DataFrame({'OBJECTID':objectid,\n",
    "                            'Assigned_Fire_Type':Assigned_Fire_Type,\n",
    "                            'Fire_Year':Fire_Year,\n",
    "                            'GIS_Acres':GIS_Acres,\n",
    "                            'Overlap_Within_1_or_2_Flag' : Overlap_Within_1_or_2_Flag})\n",
    "\n",
    "#Saving the feature_df in the event that the programmer wants to come back to it later\n",
    "feature_df.to_csv('../intermediate_data/fire_features.csv', index=False)"
   ]
  },
  {
   "cell_type": "markdown",
   "id": "e13f7dcb",
   "metadata": {},
   "source": [
    "Opening the fire features file in the event that the programmer wanted to return to their work later in the day."
   ]
  },
  {
   "cell_type": "code",
   "execution_count": null,
   "id": "4af1c48b",
   "metadata": {},
   "outputs": [],
   "source": [
    "#Reading fire features in as pandas df\n",
    "fire_feature_df = pd.read_csv('../intermediate_data/fire_features.csv')\n",
    "\n",
    "#Also reading the the close fires as a pandas df\n",
    "close_fires_df= pd.read_csv('../intermediate_data/close_fires.csv')"
   ]
  },
  {
   "cell_type": "markdown",
   "id": "af972bfd",
   "metadata": {},
   "source": [
    "Next we inner join the post-1963 fire attributes with their distances to calculate the smoke estimate. We will save this dataframe for later use in the data_processing script."
   ]
  },
  {
   "cell_type": "code",
   "execution_count": null,
   "id": "3e13cbde",
   "metadata": {},
   "outputs": [],
   "source": [
    "#Inner joining to get only the fires which are after 1963 (inclusive) and within 1250 miles of our town.\n",
    "filtered_fire_df = pd.merge(fire_feature_df, close_fires_df, how = 'inner', left_on='OBJECTID', right_on='OBJECTID')\n",
    "\n",
    "#Saving file\n",
    "filtered_fire_df.to_csv('../intermediate_data/filtered_fire_info.csv', index = False)\n",
    "\n",
    "#Checking the output\n",
    "if filtered_fire_df['Fire_Year'].max() > 2023:\n",
    "    print(\"ERROR - fires after 2023 included in data\")\n",
    "else:\n",
    "    print(\"The max fire year is {0}\".format(filtered_fire_df['Fire_Year'].max()))\n",
    "if filtered_fire_df['Fire_Year'].min() < 1963:\n",
    "    print(\"ERROR - fires before 1963 included in data\")\n",
    "else:\n",
    "    print(\"The min fire year is {0}\".format(filtered_fire_df['Fire_Year'].min()))\n",
    "if filtered_fire_df['shortest_dist'].max() > 1250:\n",
    "    print(\"ERROR - fires beyond 1250 miles included in data\")\n",
    "else:\n",
    "    print(\"The fartherst fire is {0} miles from town\".format(filtered_fire_df['shortest_dist'].max()))\n",
    "    print(\"The closest fire is {0} miles from town\".format(filtered_fire_df['shortest_dist'].min()))\n",
    "print(\"There are {0} fires after 1963 within 1250 miles of Pahrump, NV\".format(len(filtered_fire_df)))"
   ]
  }
 ],
 "metadata": {
  "kernelspec": {
   "display_name": "Python 3 (ipykernel)",
   "language": "python",
   "name": "python3"
  },
  "language_info": {
   "codemirror_mode": {
    "name": "ipython",
    "version": 3
   },
   "file_extension": ".py",
   "mimetype": "text/x-python",
   "name": "python",
   "nbconvert_exporter": "python",
   "pygments_lexer": "ipython3",
   "version": "3.9.12"
  }
 },
 "nbformat": 4,
 "nbformat_minor": 5
}
