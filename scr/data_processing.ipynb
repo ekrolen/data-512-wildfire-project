{
 "cells": [
  {
   "cell_type": "markdown",
   "id": "3feb535f",
   "metadata": {},
   "source": [
    "## Purpose\n",
    "\n",
    "The purpose of this file is to use the filtered fire data created in the data_acquisition script to generate a smoke estimate for Pahrump, NV on an annual and per-fire basis.\n",
    "\n",
    "### Decisions and Assumptions in Creation of Smoke Estimate\n",
    "To calculate smoke estimates we first considered which features of fires might be most relevent. We decided on type of fire, acres burned, distance to town, recency of other fires in the same area, and year of fire recording. We felt these were the most likely elements which were easily accessible in our dataset and they aligned with information from [U.S. Department of the Interior Pubilcations](https://www.doi.gov/wildlandfire/news/increasing-wildfires-are-causing-greater-air-pollution). If given more time, it would also be interesting to pull vegetation for burned areas (e.g., arid climates may have less to burn and thus less smoke) as well as weather conditions (e.g., windy conditions could disperse smoke more readily than stagnant conditions).\n",
    "\n",
    "We had the following initial set of questions regarding our features:\n",
    "   1. Do perscribed burns create as much smoke as wildfires?\n",
    "   2. How is acres burned related to smoke production?\n",
    "   3. How does distance to the edge of the fire relate to smoke dispursion?\n",
    "   4. How much does burning an area reduce smoke if its burned again within 2 years?\n",
    "   5. How reliable are estimates for burned area and thus smoke per year?\n",
    "\n",
    "We completed the following research (numbering consistent with questions above) and determined the following mathematical relationships for each feature.\n",
    "    \n",
    "   1. Per David Frisbey's 2008 thesis \"[A comparison of smoke emissions from prescribed burns and wildfires](https://scholarworks.sjsu.edu/cgi/viewcontent.cgi?referer=&httpsredir=1&article=4554&context=etd_theses)\", \"The results suggest that the smoke impacts of a wildfire may not be any greater than a prescribed burn when compared using the methodology. This research demonstrates how a combination of the fuel load and the size of the burn may be more significant in controlling downwind concentration of PM10 than the atmospheric conditions. Even when there is a planned burn under prescribed meteorological conditions there can be significant impacts if the size of the burn and fuel loading are not also considered.\" Referencing [Forest Service Professionals Prepare for a Prescribed Burn](https://www.fs.usda.gov/features/professionals-prepare-for-prescribed-burn), we can see that forestry services do take fuel moisture, forest stand characteristics, historical data, terrain, and elevation into account. Given David's findings, and assuming the Forest Service correctly accounts for the fuel variables to create less intense blazes, we will multiply the smoke estimate for perscribed burns by 0.50.  \n",
    "    \n",
    "   2. Composition of fuel certainly impacts the amount of smoke generated per acre burned. Given we are not currently bringing in additional vegetation information, we will assume a linear relationship between acres burned and smoke produced.\n",
    "    \n",
    "   3. Many factors impact smoke dispursion (direction of terrain, wind, other atmospheric conditions), but we will focus on distance to town as our primary variable. We will assume that smoke dispurses like light (1/distance^2) relationship, see [Nasa.gov](https://imagine.gsfc.nasa.gov/features/yba/M31_velocity/lightcurve/more.html#:~:text=Notice%20that%20as%20the%20distance,proportional%20to%20the%20distance%20squared) for more details.\n",
    "    \n",
    "   4. Fires which attempt to burn in areas burnt within 2 years should produce much less smoke than the original fires which burned there (see [Burn out: Frequent fires are changing Western landscapes](https://www.hcn.org/articles/climate-desk-wildfire-burn-out-frequent-fires-are-changing-western-landscapes#:~:text=However%2C%20overall%2C%20re%2Dburns,just%20fine%2C%E2%80%9D%20he%20said.) for more details). We will multiply smoke estimates for fires burning in burned areas by a factor of 0.20. \n",
    "    \n",
    "   5. The USGS wildland fire metadata note that \"Areas burned prior to 1984 in this dataset represent only a fraction of what actually burned. While areas burned on or after 1984 are much more accurate and complete, errors still can and do occur.\" Given the underestimation of acres burned, we will multiple acreage estimates for fires prior to 1984 by 1.5.\n",
    "    \n",
    "Using the above research, we arrive at a base smoke estimate of: (Acres burned)/(Distance to town)^2. If fires occurred prior to 1984 we will multiply this estimate by 1.5, if the fire was prescribed we will multiply the smoke estimator by 0.5, and if the area was burned in the previous 2 years we will multiply the smoke estimator by a factor of 0.2."
   ]
  },
  {
   "cell_type": "markdown",
   "id": "24924855",
   "metadata": {},
   "source": [
    "First we begin by loading common python libraries and the filtered fire data created in the data_acquisiton script."
   ]
  },
  {
   "cell_type": "code",
   "execution_count": 6,
   "id": "499d3e4a",
   "metadata": {},
   "outputs": [
    {
     "name": "stdout",
     "output_type": "stream",
     "text": [
      "The max fire year is 2020\n",
      "The min fire year is 1963\n",
      "The fartherst fire is 1249.99 miles from town\n",
      "The closest fire is 8.52 miles from town\n",
      "There are 81351 fires after 1963 within 1250 miles of Pahrump, NV.\n",
      "\n",
      "The filtered fire data looks like:\n",
      "   OBJECTID Assigned_Fire_Type  Fire_Year     GIS_Acres  \\\n",
      "0     14299           Wildfire       1963  40992.458271   \n",
      "1     14300           Wildfire       1963  25757.090203   \n",
      "2     14301           Wildfire       1963  45527.210986   \n",
      "3     14302           Wildfire       1963  10395.010334   \n",
      "4     14303           Wildfire       1963   9983.605738   \n",
      "\n",
      "  Overlap_Within_1_or_2_Flag  shortest_dist  \n",
      "0                        NaN         549.11  \n",
      "1                        NaN         569.27  \n",
      "2                        NaN         556.75  \n",
      "3                        NaN         479.44  \n",
      "4                        NaN         541.90  \n"
     ]
    }
   ],
   "source": [
    "#Imports\n",
    "import os, json, time\n",
    "import pandas as pd\n",
    "import numpy as np\n",
    "\n",
    "#Importing the filtered fire data for 1963 onward within 1250 miles of Pahrump, NV\n",
    "fire_data = pd.read_csv('../intermediate_data/filtered_fire_info.csv')\n",
    "\n",
    "#Checking the output\n",
    "if fire_data['Fire_Year'].max() > 2023:\n",
    "    print(\"ERROR - fires after 2023 included in data\")\n",
    "else:\n",
    "    print(\"The max fire year is {0}\".format(fire_data['Fire_Year'].max()))\n",
    "if fire_data['Fire_Year'].min() < 1963:\n",
    "    print(\"ERROR - fires before 1963 included in data\")\n",
    "else:\n",
    "    print(\"The min fire year is {0}\".format(fire_data['Fire_Year'].min()))\n",
    "if fire_data['shortest_dist'].max() > 1250:\n",
    "    print(\"ERROR - fires beyond 1250 miles included in data\")\n",
    "else:\n",
    "    print(\"The fartherst fire is {0} miles from town\".format(fire_data['shortest_dist'].max()))\n",
    "    print(\"The closest fire is {0} miles from town\".format(fire_data['shortest_dist'].min()))\n",
    "print(\"There are {0} fires after 1963 within 1250 miles of Pahrump, NV.\".format(len(fire_data)))\n",
    "\n",
    "#Outputting example of what file looks like\n",
    "print()\n",
    "print(\"The filtered fire data looks like:\")\n",
    "print(fire_data.head())"
   ]
  },
  {
   "cell_type": "code",
   "execution_count": null,
   "id": "f2f1f509",
   "metadata": {},
   "outputs": [],
   "source": []
  },
  {
   "cell_type": "code",
   "execution_count": null,
   "id": "4b3013b1",
   "metadata": {},
   "outputs": [],
   "source": []
  },
  {
   "cell_type": "code",
   "execution_count": null,
   "id": "edbbbcaa",
   "metadata": {},
   "outputs": [],
   "source": []
  },
  {
   "cell_type": "code",
   "execution_count": null,
   "id": "b4e47aeb",
   "metadata": {},
   "outputs": [],
   "source": []
  },
  {
   "cell_type": "code",
   "execution_count": null,
   "id": "238d566c",
   "metadata": {},
   "outputs": [],
   "source": []
  },
  {
   "cell_type": "code",
   "execution_count": null,
   "id": "1e1c886d",
   "metadata": {},
   "outputs": [],
   "source": []
  },
  {
   "cell_type": "code",
   "execution_count": null,
   "id": "f21afddf",
   "metadata": {},
   "outputs": [],
   "source": []
  },
  {
   "cell_type": "code",
   "execution_count": null,
   "id": "a4131c98",
   "metadata": {},
   "outputs": [],
   "source": []
  },
  {
   "cell_type": "code",
   "execution_count": null,
   "id": "06c8572a",
   "metadata": {},
   "outputs": [],
   "source": []
  },
  {
   "cell_type": "code",
   "execution_count": null,
   "id": "bed1c05b",
   "metadata": {},
   "outputs": [],
   "source": []
  }
 ],
 "metadata": {
  "kernelspec": {
   "display_name": "Python 3 (ipykernel)",
   "language": "python",
   "name": "python3"
  },
  "language_info": {
   "codemirror_mode": {
    "name": "ipython",
    "version": 3
   },
   "file_extension": ".py",
   "mimetype": "text/x-python",
   "name": "python",
   "nbconvert_exporter": "python",
   "pygments_lexer": "ipython3",
   "version": "3.9.12"
  }
 },
 "nbformat": 4,
 "nbformat_minor": 5
}
