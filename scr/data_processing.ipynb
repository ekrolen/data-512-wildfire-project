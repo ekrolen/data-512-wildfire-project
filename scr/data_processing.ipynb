{
 "cells": [
  {
   "cell_type": "markdown",
   "id": "d5923c32",
   "metadata": {},
   "source": [
    "## Purpose\n",
    "\n",
    "The purpose of this file is to use the filtered fire data created in the data_acquisition script to generate a smoke estimate for Pahrump, NV on an annual and per-fire basis.\n",
    "\n",
    "### Decisions and Assumptions in Creation of Smoke Estimate\n",
    "To calculate smoke estimates we first considered which features of fires might be most relevent. We decided on type of fire, acres burned, distance to town, recency of other fires in the same area, and year of fire recording. We felt these were the most likely elements which were easily accessible in our dataset and they aligned with information from [U.S. Department of the Interior Pubilcations](https://www.doi.gov/wildlandfire/news/increasing-wildfires-are-causing-greater-air-pollution). If given more time, it would also be interesting to pull vegetation for burned areas (e.g., arid climates may have less to burn and thus less smoke) as well as weather conditions (e.g., windy conditions could disperse smoke more readily than stagnant conditions).\n",
    "\n",
    "We had the following initial set of questions regarding our features:\n",
    "   1. Do perscribed burns create as much smoke as wildfires?\n",
    "   2. How is acres burned related to smoke production?\n",
    "   3. How does distance to the edge of the fire relate to smoke dispersion?\n",
    "   4. How much does burning an area reduce smoke if its burned again within 2 years?\n",
    "   5. How reliable are estimates for burned area and thus smoke per year?\n",
    "\n",
    "We completed the following research (numbering consistent with questions above) and determined the following mathematical relationships for each feature.\n",
    "    \n",
    "   1. Per David Frisbey's 2008 thesis \"[A comparison of smoke emissions from prescribed burns and wildfires](https://scholarworks.sjsu.edu/cgi/viewcontent.cgi?referer=&httpsredir=1&article=4554&context=etd_theses)\", \"The results suggest that the smoke impacts of a wildfire may not be any greater than a prescribed burn when compared using the methodology. This research demonstrates how a combination of the fuel load and the size of the burn may be more significant in controlling downwind concentration of PM10 than the atmospheric conditions. Even when there is a planned burn under prescribed meteorological conditions there can be significant impacts if the size of the burn and fuel loading are not also considered.\" Referencing [Forest Service Professionals Prepare for a Prescribed Burn](https://www.fs.usda.gov/features/professionals-prepare-for-prescribed-burn), we can see that forestry services do take fuel moisture, forest stand characteristics, historical data, terrain, and elevation into account. Given David's findings, and assuming the Forest Service correctly accounts for the fuel variables to create less intense blazes, we will multiply the smoke estimate for perscribed burns by 0.50.  \n",
    "    \n",
    "   2. Composition of fuel certainly impacts the amount of smoke generated per acre burned. Given we are not currently bringing in additional vegetation information, we will assume a linear relationship between acres burned and smoke produced.\n",
    "    \n",
    "   3. Many factors impact smoke dispursion (direction of terrain, wind, other atmospheric conditions), but we will focus on distance to town as our primary variable. We will assume that smoke dispurses like light (1/distance^2) relationship, see [Nasa.gov](https://imagine.gsfc.nasa.gov/features/yba/M31_velocity/lightcurve/more.html#:~:text=Notice%20that%20as%20the%20distance,proportional%20to%20the%20distance%20squared) for more details.\n",
    "    \n",
    "   4. Fires which attempt to burn in areas burnt within 2 years should produce much less smoke than the original fires which burned there (see [Burn out: Frequent fires are changing Western landscapes](https://www.hcn.org/articles/climate-desk-wildfire-burn-out-frequent-fires-are-changing-western-landscapes#:~:text=However%2C%20overall%2C%20re%2Dburns,just%20fine%2C%E2%80%9D%20he%20said.) for more details). We will multiply smoke estimates for fires burning in burned areas by a factor of 0.20. \n",
    "    \n",
    "   5. The USGS wildland fire metadata note that \"Areas burned prior to 1984 in this dataset represent only a fraction of what actually burned. While areas burned on or after 1984 are much more accurate and complete, errors still can and do occur.\" Given the underestimation of acres burned, we will multiple acreage estimates for fires prior to 1984 by 1.5.\n",
    "    \n",
    "Using the above research, we arrive at a base smoke estimate of: (Acres burned)/(Distance to town)^2. \"Smokes\" are in acres/miles^2. If parts of the acres burned were previously burned within the past 2 years, we will multiply that number of acres by 0.2 to indicate they will produce less smoke. If fires occurred prior to 1984 we will multiply the entire smoke estimate by 1.5, and if the fire was prescribed we will multiply the entire smoke estimate by 0.5.\n",
    "\n",
    "Next we needed to decide how to combine individual fire smoke estimates to produce an annual estimate of smoke in Pahrump, NV. Because we are compiling smoke estimates at the annual level not monthly level an \"amortization\" of smoke throughout the year did not feel necessary. Further, parsing fires by sub-year dates is unreliable due to multiple dates recorded from merging datasets (even years is somewhat unreliable, see USGS metadata for more information), leading to a difficult attribution throughout the year for a monthly/amortized view. Finally, we assume most fires are contained to \"fire season\", making it unlikely that smoke from 1 year will bleed into the next year.\n",
    "\n",
    "To create annual smokiness estimates we will average all individual fire smokiness estimates over a year timespan. We chose to do this because when comparing with other estimates of pollution (e.g., AQI) we felt the average of values would be most appropriate."
   ]
  },
  {
   "cell_type": "markdown",
   "id": "ced91950",
   "metadata": {},
   "source": [
    "First we begin by loading common python libraries and the filtered fire data created in the data_acquisiton script."
   ]
  },
  {
   "cell_type": "code",
   "execution_count": 117,
   "id": "78a23eb9",
   "metadata": {},
   "outputs": [
    {
     "name": "stdout",
     "output_type": "stream",
     "text": [
      "The max fire year is 2020\n",
      "The min fire year is 1963\n",
      "The fartherst fire is 1249.99 miles from town\n",
      "The closest fire is 8.52 miles from town\n",
      "There are 81351 fires after 1963 within 1250 miles of Pahrump, NV.\n"
     ]
    }
   ],
   "source": [
    "#Imports\n",
    "import os, json, time\n",
    "import pandas as pd\n",
    "import numpy as np\n",
    "\n",
    "#Importing the filtered fire data for 1963 onward within 1250 miles of Pahrump, NV\n",
    "fire_data = pd.read_csv('../intermediate_data/filtered_fire_info.csv')\n",
    "\n",
    "#Checking the output\n",
    "if fire_data['Fire_Year'].max() > 2023:\n",
    "    print(\"ERROR - fires after 2023 included in data\")\n",
    "else:\n",
    "    print(\"The max fire year is {0}\".format(fire_data['Fire_Year'].max()))\n",
    "if fire_data['Fire_Year'].min() < 1963:\n",
    "    print(\"ERROR - fires before 1963 included in data\")\n",
    "else:\n",
    "    print(\"The min fire year is {0}\".format(fire_data['Fire_Year'].min()))\n",
    "if fire_data['shortest_dist'].max() > 1250:\n",
    "    print(\"ERROR - fires beyond 1250 miles included in data\")\n",
    "else:\n",
    "    print(\"The fartherst fire is {0} miles from town\".format(fire_data['shortest_dist'].max()))\n",
    "    print(\"The closest fire is {0} miles from town\".format(fire_data['shortest_dist'].min()))\n",
    "print(\"There are {0} fires after 1963 within 1250 miles of Pahrump, NV.\".format(len(fire_data)))\n",
    "\n",
    "#Outputting example of what file looks like\n",
    "#print()\n",
    "#print(\"The filtered fire data looks like:\")\n",
    "#print(fire_data.head())"
   ]
  },
  {
   "cell_type": "markdown",
   "id": "d754cee1",
   "metadata": {},
   "source": [
    "First, we will calculate how many acres have been burned in the past 2 years, versus acres not burned in the past 2 years. This is relevent when applying the 0.2 \"previous burn reduction factor.\" In this process we will also cast any NaN values to 0 to enable math calculations."
   ]
  },
  {
   "cell_type": "code",
   "execution_count": 118,
   "id": "60d5727a",
   "metadata": {},
   "outputs": [
    {
     "name": "stdout",
     "output_type": "stream",
     "text": [
      "Warning - 5346 preburned acres could not be read.\n",
      "This is 6.57% of all fires\n",
      "Because this is < 10% of fires, changing the misattributed preburned acres to 0\n"
     ]
    }
   ],
   "source": [
    "#Replace Nans with 0s\n",
    "fire_data = fire_data.fillna(0)\n",
    "\n",
    "#Defining what the values for preburn_acres should be\n",
    "def burn_splitter(row):\n",
    "    if row['Overlap_Within_1_or_2_Flag'] == 0:\n",
    "        return 0\n",
    "    if row['Overlap_Within_1_or_2_Flag'] != 0:\n",
    "        try:\n",
    "            return float(row['Overlap_Within_1_or_2_Flag'].split(' ')[22][1:])\n",
    "        except ValueError as ve:\n",
    "            return -1\n",
    "    return row['preburn_acres']\n",
    "\n",
    "#Apply the function to each row\n",
    "fire_data['preburn_acres'] = fire_data.apply(burn_splitter, axis=1)\n",
    "\n",
    "#See if we changed all the values\n",
    "error_burn = len(fire_data.loc[fire_data['preburn_acres']== -1])\n",
    "if error_burn >0:\n",
    "    print(\"Warning - {0} preburned acres could not be read.\".format(error_burn))\n",
    "    print(\"This is {0}% of all fires\".format(round((error_burn/len(fire_data))*100, 2)))\n",
    "    if error_burn/len(fire_data) < 10:\n",
    "        print(\"Because this is < 10% of fires, changing the misattributed preburned acres to 0\")\n",
    "        fire_data.loc[fire_data['preburn_acres']==-1, 'preburn_acres'] = 0\n",
    "    else:\n",
    "        print(\"This is > 10% of fires. User should decide what to do with these acres\")\n",
    "\n",
    "#Create a column containing \"new_burn_acres\" which is GIS_Acres - preburn acres\n",
    "fire_data['new_burn_acres'] = fire_data['GIS_Acres']-fire_data['preburn_acres']\n",
    "\n",
    "#View new df\n",
    "#print(fire_data.loc[fire_data['Overlap_Within_1_or_2_Flag']!=0].head())"
   ]
  },
  {
   "cell_type": "markdown",
   "id": "30bbae7a",
   "metadata": {},
   "source": [
    "Now we will calculate the smoke for each of the wildfires."
   ]
  },
  {
   "cell_type": "code",
   "execution_count": 121,
   "id": "7aa2c2c2",
   "metadata": {},
   "outputs": [],
   "source": [
    "#Adjusting for pre-1984 estimates\n",
    "fire_data.loc[fire_data['Fire_Year']<1984, 'smoke_estimate'] = 0\n",
    "\n",
    "#Defining what the values for preburn_acres should be\n",
    "def smoke_est(row):\n",
    "    smoke_estimate = (row['new_burn_acres']/(row['shortest_dist']**2) +\n",
    "                    (row['preburn_acres']*0.2)/(row['shortest_dist'])**2)\n",
    "    if row['Fire_Year'] < 1984:\n",
    "        smoke_estimate = smoke_estimate * 1.5\n",
    "    if row['Assigned_Fire_Type'] in ('Prescribed Fire', 'Unknown - Likely Prescribed Fire'):\n",
    "        smoke_estimate = smoke_estimate * 0.5\n",
    "    return smoke_estimate\n",
    "\n",
    "#Apply the function to each row\n",
    "fire_data['smoke_estimate'] = fire_data.apply(smoke_est, axis=1)\n",
    "\n",
    "#Check out the results\n",
    "#print(fire_data.loc[fire_data['Overlap_Within_1_or_2_Flag']!=0].head())"
   ]
  },
  {
   "cell_type": "markdown",
   "id": "6fb51824",
   "metadata": {},
   "source": [
    "Next we will combine the individual fire smoke estimates to create annual smoke estimates."
   ]
  },
  {
   "cell_type": "code",
   "execution_count": 132,
   "id": "a00eaf09",
   "metadata": {},
   "outputs": [
    {
     "name": "stdout",
     "output_type": "stream",
     "text": [
      "The annual smoke estimates are as follows:\n",
      "    Fire_Year  Annual_Smoke_Estimate\n",
      "0        1963               2.123318\n",
      "1        1964               7.581578\n",
      "2        1965               2.318274\n",
      "3        1966               9.220398\n",
      "4        1967               9.041263\n",
      "5        1968               8.405211\n",
      "6        1969               3.905857\n",
      "7        1970              27.210594\n",
      "8        1971               5.544000\n",
      "9        1972               5.892116\n",
      "10       1973              10.040598\n",
      "11       1974               7.296173\n",
      "12       1975              11.195640\n",
      "13       1976               6.579943\n",
      "14       1977               9.379401\n",
      "15       1978               4.047137\n",
      "16       1979              16.806874\n",
      "17       1980              21.217983\n",
      "18       1981              67.954338\n",
      "19       1982              19.109597\n",
      "20       1983              10.964045\n",
      "21       1984              16.247834\n",
      "22       1985              25.112015\n",
      "23       1986              16.580361\n",
      "24       1987              26.017506\n",
      "25       1988              26.396792\n",
      "26       1989               7.979668\n",
      "27       1990               8.257749\n",
      "28       1991               2.565898\n",
      "29       1992               7.697517\n",
      "30       1993              16.850738\n",
      "31       1994              30.171993\n",
      "32       1995              17.858756\n",
      "33       1996              43.459971\n",
      "34       1997               9.696500\n",
      "35       1998               9.885052\n",
      "36       1999              43.052350\n",
      "37       2000              56.868630\n",
      "38       2001              14.924284\n",
      "39       2002              47.011129\n",
      "40       2003              33.441906\n",
      "41       2004              17.352089\n",
      "42       2005             182.834278\n",
      "43       2006             105.419900\n",
      "44       2007              58.502534\n",
      "45       2008              22.605069\n",
      "46       2009              19.159349\n",
      "47       2010              11.612838\n",
      "48       2011              34.979501\n",
      "49       2012              50.728043\n",
      "50       2013             116.257739\n",
      "51       2014              15.078296\n",
      "52       2015              23.792261\n",
      "53       2016              28.318918\n",
      "54       2017              54.584310\n",
      "55       2018              39.886884\n",
      "56       2019              14.766961\n",
      "57       2020             114.258138\n"
     ]
    }
   ],
   "source": [
    "#Grouping by year and summing all smokiness estimates\n",
    "annual_smoke_estimates = pd.DataFrame({\n",
    "    'Annual_Smoke_Estimate': fire_data.groupby(['Fire_Year'])['smoke_estimate'].sum()}).reset_index()\n",
    "\n",
    "#Save the file to a csv\n",
    "annual_smoke_estimates.to_csv('../clean_data/annual_smoke_estimate.csv')\n",
    "\n",
    "#Print results\n",
    "print(\"The annual smoke estimates are as follows:\")\n",
    "print(annual_smoke_estimates)"
   ]
  }
 ],
 "metadata": {
  "kernelspec": {
   "display_name": "Python 3 (ipykernel)",
   "language": "python",
   "name": "python3"
  },
  "language_info": {
   "codemirror_mode": {
    "name": "ipython",
    "version": 3
   },
   "file_extension": ".py",
   "mimetype": "text/x-python",
   "name": "python",
   "nbconvert_exporter": "python",
   "pygments_lexer": "ipython3",
   "version": "3.9.12"
  }
 },
 "nbformat": 4,
 "nbformat_minor": 5
}
